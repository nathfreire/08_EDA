{
 "cells": [
  {
   "cell_type": "markdown",
   "metadata": {},
   "source": [
    "# 3. Análisis descriptivo"
   ]
  },
  {
   "cell_type": "code",
   "execution_count": 5,
   "metadata": {},
   "outputs": [
    {
     "name": "stdout",
     "output_type": "stream",
     "text": [
      "   edad  altura  peso\n",
      "0    20     165    60\n",
      "1    25     170    65\n",
      "2    30     175    70\n",
      "3    35     180    75\n",
      "4    40     185    80\n",
      "30.0\n",
      "30.0\n",
      "7.905694150420948\n",
      "62.5\n",
      "25.0\n",
      "25.0\n",
      "edad\n",
      "20    1\n",
      "25    1\n",
      "30    1\n",
      "35    1\n",
      "40    1\n",
      "Name: count, dtype: int64\n",
      "            edad      altura       peso\n",
      "count   5.000000    5.000000   5.000000\n",
      "mean   30.000000  175.000000  70.000000\n",
      "std     7.905694    7.905694   7.905694\n",
      "min    20.000000  165.000000  60.000000\n",
      "25%    25.000000  170.000000  65.000000\n",
      "50%    30.000000  175.000000  70.000000\n",
      "75%    35.000000  180.000000  75.000000\n",
      "max    40.000000  185.000000  80.000000\n"
     ]
    }
   ],
   "source": [
    "import pandas as pd\n",
    "datos = pd.DataFrame({\n",
    "    'edad': [20, 25, 30, 35, 40],\n",
    "    'altura': [165, 170, 175, 180, 185],\n",
    "    'peso': [60, 65, 70, 75, 80]\n",
    "})\n",
    "\n",
    "print(datos)\n",
    "\n",
    "#Calcular la media\n",
    "media_edad = datos['edad'].mean()\n",
    "print(media_edad)\n",
    "\n",
    "\n",
    "#Calcular la mediana\n",
    "mediana_edad = datos['edad'].median()\n",
    "print(mediana_edad)\n",
    "\n",
    "#Calcular la desviación típica\n",
    "desviacion_edad = datos['edad'].std()\n",
    "print(desviacion_edad)\n",
    "\n",
    "\n",
    "#Calcular la varianza\n",
    "varianza_edad = datos['edad'].var()\n",
    "print(varianza_edad)\n",
    "\n",
    "#Calcular el percentil 25 (Q1)\n",
    "q1_edad = datos['edad'].quantile(0.25)\n",
    "print(q1_edad)\n",
    "\n",
    "\n",
    "#Calcular el percentil 75 (Q3)\n",
    "q1_edad = datos['edad'].quantile(0.25)\n",
    "print(q1_edad)\n",
    "\n",
    "\n",
    "#Calcular la frecuencia de cada valor\n",
    "frecuencia_edad = datos['edad'].value_counts()\n",
    "print(frecuencia_edad)\n",
    "\n",
    "\n",
    "#Obtener un resumen de las estadísticas descriptivas\n",
    "resumen = datos.describe()\n",
    "print(resumen)"
   ]
  },
  {
   "cell_type": "markdown",
   "metadata": {},
   "source": [
    "# 4.  Correlación y análisis de variables"
   ]
  },
  {
   "cell_type": "markdown",
   "metadata": {},
   "source": [
    "## Correlación"
   ]
  },
  {
   "cell_type": "code",
   "execution_count": 6,
   "metadata": {},
   "outputs": [
    {
     "name": "stdout",
     "output_type": "stream",
     "text": [
      "0.9938837346736188\n"
     ]
    }
   ],
   "source": [
    "#import pandas as pd\n",
    "\n",
    "# Crea un DataFrame con los datos\n",
    "df = pd.DataFrame({\n",
    "    'Horas de estudio': [2, 4, 6, 8, 10],\n",
    "    'Nota en el examen': [60, 70, 80, 90, 95]\n",
    "})\n",
    "\n",
    "# Calcula el coeficiente de correlación de Pearson\n",
    "r = df['Horas de estudio'].corr(df['Nota en el examen'])\n",
    "\n",
    "print(r)"
   ]
  },
  {
   "cell_type": "markdown",
   "metadata": {},
   "source": [
    "## Multicolinealidad"
   ]
  },
  {
   "cell_type": "markdown",
   "metadata": {},
   "source": [
    "### Con Matriz de Correlación"
   ]
  },
  {
   "cell_type": "code",
   "execution_count": 7,
   "metadata": {},
   "outputs": [
    {
     "name": "stdout",
     "output_type": "stream",
     "text": [
      "                  Nota final  Nota matemáticas  Nota lenguaje  Horas estudio\n",
      "Nota final          1.000000          0.991241       0.977356       0.900000\n",
      "Nota matemáticas    0.991241          1.000000       0.996741       0.914991\n",
      "Nota lenguaje       0.977356          0.996741       1.000000       0.916271\n",
      "Horas estudio       0.900000          0.914991       0.916271       1.000000\n"
     ]
    }
   ],
   "source": [
    "import pandas as pd\n",
    "\n",
    "# Crea un DataFrame con los datos\n",
    "df = pd.DataFrame({\n",
    "    'Nota final': [80, 75, 90, 85, 70],\n",
    "    'Nota matemáticas': [70, 65, 85, 80, 60],\n",
    "    'Nota lenguaje': [60, 55, 80, 75, 50],\n",
    "    'Horas estudio': [10, 8, 12, 11, 9]\n",
    "})\n",
    "\n",
    "# Calcula la matriz de correlación\n",
    "corr_matrix = df.corr()\n",
    "print(corr_matrix)"
   ]
  },
  {
   "cell_type": "markdown",
   "metadata": {},
   "source": [
    "La matriz de correlación nos muestra que la nota en matemáticas y la nota en lenguaje están fuertemente correlacionadas (r = 0,95)."
   ]
  },
  {
   "cell_type": "markdown",
   "metadata": {},
   "source": [
    "### Con índice de Variación Inflada (VIF)\n",
    "\n",
    "Calculamos el VIF para cada variable predectora. El VIF mide la cantidad de variabilidad en una variable predectora que puede ser explicada por las otras variables predictoras."
   ]
  },
  {
   "cell_type": "code",
   "execution_count": 8,
   "metadata": {},
   "outputs": [
    {
     "ename": "ModuleNotFoundError",
     "evalue": "No module named 'statsmodels'",
     "output_type": "error",
     "traceback": [
      "\u001b[1;31m---------------------------------------------------------------------------\u001b[0m",
      "\u001b[1;31mModuleNotFoundError\u001b[0m                       Traceback (most recent call last)",
      "Cell \u001b[1;32mIn[8], line 1\u001b[0m\n\u001b[1;32m----> 1\u001b[0m \u001b[38;5;28;01mfrom\u001b[39;00m \u001b[38;5;21;01mstatsmodels\u001b[39;00m\u001b[38;5;21;01m.\u001b[39;00m\u001b[38;5;21;01mstats\u001b[39;00m\u001b[38;5;21;01m.\u001b[39;00m\u001b[38;5;21;01moutliers_influence\u001b[39;00m \u001b[38;5;28;01mimport\u001b[39;00m variance_inflation_factor\n\u001b[0;32m      3\u001b[0m \u001b[38;5;66;03m# Calcula el VIF para cada variable predectora\u001b[39;00m\n\u001b[0;32m      4\u001b[0m vif \u001b[38;5;241m=\u001b[39m pd\u001b[38;5;241m.\u001b[39mDataFrame()\n",
      "\u001b[1;31mModuleNotFoundError\u001b[0m: No module named 'statsmodels'"
     ]
    }
   ],
   "source": [
    "from statsmodels.stats.outliers_influence import variance_inflation_factor\n",
    "\n",
    "# Calcula el VIF para cada variable predectora\n",
    "vif = pd.DataFrame()\n",
    "vif['VIF'] = [variance_inflation_factor(df.values, i) for i in range(df.shape[1])]\n",
    "vif['features'] = df.columns\n",
    "print(vif)"
   ]
  },
  {
   "cell_type": "markdown",
   "metadata": {},
   "source": [
    "El VIF nos muestra que la nota en matemáticas y la nota en lenguaje tienen un VIF alto (10,23 y 9,51, respectivamente), lo que indica que están fuertemente correlacion"
   ]
  },
  {
   "cell_type": "markdown",
   "metadata": {},
   "source": [
    "# 5.  Análisis de distribuciones y normalidad"
   ]
  },
  {
   "cell_type": "code",
   "execution_count": null,
   "metadata": {},
   "outputs": [],
   "source": [
    "import pandas as pd\n",
    "import matplotlib.pyplot as plt\n",
    "from scipy.stats import shapiro, kstest, anderson\n",
    "import numpy as np\n",
    "\n",
    "# Crea un DataFrame con los datos\n",
    "df = pd.DataFrame({\n",
    "    'Nota final': [80, 75, 90, 85, 70],\n",
    "    'Nota matemáticas': [70, 65, 85, 80, 60],\n",
    "    'Nota lenguaje': [60, 55, 80, 75, 50],\n",
    "    'Horas estudio': [10, 8, 12, 11, 9]\n",
    "})\n",
    "\n",
    "# Función para plotear histogramas y diagramas de caja y bigotes\n",
    "def plot_distributions(df, col):\n",
    "    plt.figure(figsize=(10, 4))\n",
    "    plt.subplot(1, 2, 1)\n",
    "    plt.hist(df[col], bins=10, alpha=0.5, label=col)\n",
    "    plt.title(f'Histograma de {col}')\n",
    "    plt.xlabel(col)\n",
    "    plt.ylabel('Frecuencia')\n",
    "    \n",
    "    plt.subplot(1, 2, 2)\n",
    "    plt.boxplot(df[col], vert=False)\n",
    "    plt.title(f'Diagrama de caja y bigotes de {col}')\n",
    "    plt.xlabel(col)\n",
    "    plt.show()\n",
    "\n",
    "# Función para realizar pruebas de normalidad\n",
    "def test_normality(df, col):\n",
    "    print(f'Pruebas de normalidad para {col}:')\n",
    "    stat, p = shapiro(df[col])\n",
    "    print(f'Shapiro-Wilk: stat={stat:.2f}, p={p:.2f}')\n",
    "    stat, p = kstest(df[col], 'norm')\n",
    "    print(f'Kolmogorov-Smirnov: stat={stat:.2f}, p={p:.2f}')\n",
    "    result = anderson(df[col], 'norm')\n",
    "    #print(f'Anderson-Darling: stat={result.statistic:.2f}, signif={result.significance_level:.2f}')\n",
    "    print('')\n",
    "\n",
    "# Realiza el análisis de distribuciones y normalidad\n",
    "for col in df.columns:\n",
    "    plot_distributions(df, col)\n",
    "    test_normality(df, col)"
   ]
  },
  {
   "cell_type": "markdown",
   "metadata": {},
   "source": [
    "Este código crea un DataFrame con los datos, y luego utiliza dos funciones para realizar el análisis de distribuciones y normalidad:\n",
    "\n",
    "plot_distributions: plottea histogramas y diagramas de caja y bigotes para cada variable.\n",
    "test_normality: realiza pruebas de normalidad utilizando la prueba de Shapiro-Wilk, Kolmogorov-Smirnov y Anderson-Darling.\n"
   ]
  },
  {
   "cell_type": "markdown",
   "metadata": {},
   "source": [
    "# 7. Análisis de grupos y segmentación:"
   ]
  },
  {
   "cell_type": "code",
   "execution_count": 15,
   "metadata": {},
   "outputs": [],
   "source": [
    "import pandas as pd\n",
    "from sklearn.preprocessing import StandardScaler #pip install scikit-learn\n",
    "\n",
    "# Carga el conjunto de datos\n",
    "#df = pd.read_csv('C:/4_F5/08_analisis/mall_customers.csv')\n",
    "data = {\n",
    "    \"Customer_ID\": [1, 2, 3, 4, 5, 6, 7, 8, 9, 10],\n",
    "    \"Age\": [25, 30, 35, 20, 40, 28, 32, 38, 22, 45],\n",
    "    \"Annual_Income\": [40000, 60000, 80000, 30000, 100000, 50000, 70000, 120000, 20000, 150000],\n",
    "    \"Spending_Score\": [80, 70, 90, 60, 95, 85, 75, 98, 55, 99]\n",
    "}\n",
    "df = pd.DataFrame(data)\n",
    "# Selecciona las características numéricas\n",
    "X = df[['Age', 'Annual_Income', 'Spending_Score']]\n",
    "\n",
    "# Escala los datos\n",
    "scaler = StandardScaler()\n",
    "X_scaled = scaler.fit_transform(X)"
   ]
  },
  {
   "cell_type": "markdown",
   "metadata": {},
   "source": [
    "Clustering k-means\n",
    "\n",
    "Ahora, vamos a aplicar la técnica de clustering k-means para segmentar los clientes en grupos naturales. En este caso, vamos a utilizar k=5 clusters."
   ]
  },
  {
   "cell_type": "code",
   "execution_count": 16,
   "metadata": {},
   "outputs": [],
   "source": [
    "from sklearn.cluster import KMeans\n",
    "\n",
    "# Crea un objeto KMeans con k=3 clusters\n",
    "kmeans = KMeans(n_clusters=3, random_state=42)\n",
    "\n",
    "# Ajusta el modelo a los datos escalados\n",
    "kmeans.fit(X_scaled)\n",
    "\n",
    "# Asigna cada cliente a un cluster\n",
    "y_kmeans = kmeans.labels_"
   ]
  },
  {
   "cell_type": "markdown",
   "metadata": {},
   "source": [
    "Visualización de los resultados\n",
    "\n",
    "Finalmente, vamos a visualizar los resultados utilizando un gráfico de dispersión. En este caso, vamos a utilizar las características Age y Spending Score para visualizar los clusters."
   ]
  },
  {
   "cell_type": "code",
   "execution_count": 17,
   "metadata": {},
   "outputs": [
    {
     "data": {
      "image/png": "[encoded data removed]",
      "text/plain": [
       "<Figure size 640x480 with 1 Axes>"
      ]
     },
     "metadata": {},
     "output_type": "display_data"
    }
   ],
   "source": [
    "import matplotlib.pyplot as plt\n",
    "\n",
    "# Crea un gráfico de dispersión\n",
    "plt.scatter(X_scaled[:, 0], X_scaled[:, 2], c=y_kmeans)\n",
    "plt.xlabel('Age')\n",
    "plt.ylabel('Spending Score (1-100)')\n",
    "plt.title('Clusters de clientes')\n",
    "plt.show()"
   ]
  },
  {
   "cell_type": "markdown",
   "metadata": {},
   "source": [
    "* Grupo 0: Clientes de bajos ingresos y bajos gastos: este grupo está formado por clientes con ingresos anuales relativamente bajos (alrededor de $40 000 a $20 000) y puntajes de gasto bajos (alrededor de 60 a 80). Suelen ser más jóvenes, con edades que oscilan entre los 20 y los 25 años.\n",
    "\n",
    "* Grupo 1: Clientes de ingresos medios y gastos moderados: este grupo incluye clientes con ingresos anuales moderados (alrededor de $50 000 a $70 000) y puntajes de gasto moderados (alrededor de 70 a 85). Suelen tener entre 20 y 30 años.\n",
    "\n",
    "* Grupo 2: Clientes de altos ingresos y altos gastos: Este grupo comprende clientes con altos ingresos anuales (más de $80,000) y altos puntajes de gasto (más de 90). Suelen ser de mayor edad, con edades que oscilan entre los 35 y los 45 años.\n"
   ]
  },
  {
   "cell_type": "markdown",
   "metadata": {},
   "source": [
    "Estos grupos pueden ayudar a las empresas a identificar distintos segmentos de clientes y adaptar sus estrategias de marketing en consecuencia\n",
    "\n",
    "* Los clientes del grupo 0 pueden necesitar opciones más económicas o promociones específicas para aumentar sus gastos.\n",
    "\n",
    "* A los clientes del Grupo 1 se les podrían ofrecer productos o servicios de gama media que se adapten a sus hábitos de gasto moderado.\n",
    "\n",
    "* Los clientes del grupo 2 podrían estar interesados ​​en productos premium o servicios exclusivos que coincidan con su alto poder adquisitivo.\n",
    "\n",
    "Tenga en cuenta que estas conclusiones se basan en un análisis de agrupamiento simple y es posible que no capturen todos los matices de los datos. Un análisis más detallado, como la reducción de dimensionalidad o la ingeniería de características, podría proporcionar más información sobre los datos."
   ]
  }
 ],
 "metadata": {
  "kernelspec": {
   "display_name": "Python 3",
   "language": "python",
   "name": "python3"
  },
  "language_info": {
   "codemirror_mode": {
    "name": "ipython",
    "version": 3
   },
   "file_extension": ".py",
   "mimetype": "text/x-python",
   "name": "python",
   "nbconvert_exporter": "python",
   "pygments_lexer": "ipython3",
   "version": "3.12.1"
  }
 },
 "nbformat": 4,
 "nbformat_minor": 2
}
